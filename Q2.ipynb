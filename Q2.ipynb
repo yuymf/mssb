{
 "cells": [
  {
   "cell_type": "markdown",
   "metadata": {},
   "source": [
    "**Q2 SVM&LDA**\n",
    "\n",
    "*采用支持向量机对男女生样本数据中的（身高、体重、50m 成绩、肺活量）共 4 个特征进行分类；  \n",
    "实现 LDA 算法对前述4个特征进行分类，计算模型预测性能（包含 SE、SP、ACC 和 AUC），   \n",
    "试分析 LDA 算法如果作为降维技术对于各性能指标的影响。*"
   ]
  },
  {
   "cell_type": "markdown",
   "metadata": {},
   "source": [
    "`1.导入模块`"
   ]
  },
  {
   "cell_type": "code",
   "execution_count": 1,
   "metadata": {},
   "outputs": [],
   "source": [
    "import numpy as np\n",
    "import pandas as pd\n",
    "from sklearn.model_selection import KFold\n",
    "from sklearn import metrics\n",
    "from sklearn.metrics import roc_auc_score\n",
    "from sklearn import svm\n",
    "from sklearn.discriminant_analysis import LinearDiscriminantAnalysis as LDA\n",
    "import os\n",
    "import matplotlib.pyplot as plt"
   ]
  },
  {
   "cell_type": "markdown",
   "metadata": {},
   "source": [
    "`2.处理数据`"
   ]
  },
  {
   "cell_type": "code",
   "execution_count": 2,
   "metadata": {},
   "outputs": [
    {
     "name": "stdout",
     "output_type": "stream",
     "text": [
      "(350, 13)\n"
     ]
    }
   ],
   "source": [
    "def pre_data(file_path):\n",
    "    data = pd.read_excel(file_path)\n",
    "    data.dropna(axis=0, how='any', subset=['肺活量'], inplace=True)\n",
    "    return data\n",
    "\n",
    "data = pre_data(os.path.join('data', '作业数据_2021合成.xls'))\n",
    "print (data.shape)\n",
    "\n",
    "\n",
    "def split(data, train_id, test_id):\n",
    "    x_train =np.array([data[\"身高\"].iloc[train_id],data[\"体重\"].iloc[train_id],\n",
    "                data[\"50米成绩\"].iloc[train_id],data[\"肺活量\"].iloc[train_id]], dtype='float32')\n",
    "    x_test =np.array([data[\"身高\"].iloc[test_id],data[\"体重\"].iloc[test_id],\n",
    "                data[\"50米成绩\"].iloc[test_id],data[\"肺活量\"].iloc[test_id]], dtype='float32')\n",
    "    y_train, y_test =np.array(data[\"性别男1女0\"].iloc[train_id]),\\\n",
    "                np.array(data[\"性别男1女0\"].iloc[test_id], dtype='float32')\n",
    "    x_train=np.transpose(x_train);x_test=np.transpose(x_test)\n",
    "    return x_train, x_test, y_train, y_test\n"
   ]
  },
  {
   "cell_type": "markdown",
   "metadata": {},
   "source": [
    "`3.评估函数`"
   ]
  },
  {
   "cell_type": "code",
   "execution_count": 3,
   "metadata": {},
   "outputs": [],
   "source": [
    "def eval(y_pred,y_true,label=1):\n",
    "    confusion_matrix=metrics.confusion_matrix(y_true,y_pred)\n",
    "    FP = confusion_matrix .sum(axis=0) - np.diag(confusion_matrix )\n",
    "    FN = confusion_matrix .sum(axis=1) - np.diag(confusion_matrix )\n",
    "    TP = np.diag(confusion_matrix )\n",
    "    TN = confusion_matrix .sum() - (FP + FN + TP)\n",
    "    FP = FP.astype(float)\n",
    "    FN = FN.astype(float)\n",
    "    TP = TP.astype(float)\n",
    "    TN = TN.astype(float)\n",
    "    SE = TP/(TP+FN)   # Sensitivity/ hit rate/ recall/ true positive rate\n",
    "    SP = TN/(TN+FP)   # Specificity/ true negative rate  SP\n",
    "    ACC_all=(TP+TN)/(FP+FN+TP+TN)\n",
    "    return SE[label],SP[label],ACC_all[label],roc_auc_score(y_true,y_pred)\n",
    "\n",
    "def view(x):\n",
    "    y = np.mean(x)\n",
    "    x1 = np.round(x, 4)\n",
    "    y1 = np.round(y, 4)\n",
    "    print(x1)\n",
    "    print ('mean : {}'.format(y1))"
   ]
  },
  {
   "cell_type": "markdown",
   "metadata": {},
   "source": [
    "`4.SVM分类`"
   ]
  },
  {
   "cell_type": "code",
   "execution_count": 4,
   "metadata": {},
   "outputs": [
    {
     "name": "stdout",
     "output_type": "stream",
     "text": [
      "result of SE、SP、ACC & AUC \n",
      "[1.     0.9286 1.     1.     0.9455]\n",
      "mean : 0.9748\n",
      "[0.5    0.8571 0.9    0.8824 0.7333]\n",
      "mean : 0.7746\n",
      "[0.9143 0.9143 0.9857 0.9714 0.9   ]\n",
      "mean : 0.9371\n",
      "[0.75   0.8929 0.95   0.9412 0.8394]\n",
      "mean : 0.8747\n"
     ]
    }
   ],
   "source": [
    "def mySVM(data):\n",
    "    se_svm = []\n",
    "    sp_svm = []\n",
    "    acc_svm = []\n",
    "    auc_svm = []\n",
    "    kf = KFold(n_splits = 5,shuffle = True,random_state = None)\n",
    "    for train_id, test_id in kf.split(data):\n",
    "        # print(\"TRAIN:\", train_id, \"TEST:\", test_id)\n",
    "        x_train, x_test, y_train, y_test = split(data, train_id, test_id)\n",
    "        svmclf = svm.SVC(kernel='linear', probability=True, random_state=None)\n",
    "        svmclf.fit(x_train, y_train)\n",
    "        svm_pred=svmclf.predict(x_test)\n",
    "        se,sp,acc,auc = eval(svm_pred,y_test)\n",
    "        se_svm.append(se);sp_svm.append(sp);acc_svm.append(acc);auc_svm.append(auc)\n",
    "    return se_svm, sp_svm, acc_svm, auc_svm\n",
    "\n",
    "se_svm, sp_svm, acc_svm, auc_svm = mySVM(data)\n",
    "print('result of SE、SP、ACC & AUC ')\n",
    "view(se_svm);view(sp_svm);view(acc_svm);view(auc_svm)"
   ]
  },
  {
   "cell_type": "markdown",
   "metadata": {},
   "source": [
    "`5.LDA分类` "
   ]
  },
  {
   "cell_type": "code",
   "execution_count": 5,
   "metadata": {},
   "outputs": [
    {
     "name": "stdout",
     "output_type": "stream",
     "text": [
      "result of SE、SP、ACC & AUC \n",
      "[0.9672 0.9828 1.     0.9623 0.9815]\n",
      "mean : 0.9787\n",
      "[0.6667 0.8333 0.7857 0.7059 1.    ]\n",
      "mean : 0.7983\n",
      "[0.9286 0.9571 0.9571 0.9    0.9857]\n",
      "mean : 0.9457\n",
      "[0.8169 0.908  0.8929 0.8341 0.9907]\n",
      "mean : 0.8885\n"
     ]
    }
   ],
   "source": [
    "def myLDA(data,n):\n",
    "    se_lda = []\n",
    "    sp_lda = []\n",
    "    acc_lda = []\n",
    "    auc_lda = []\n",
    "    kf = KFold(n_splits = 5,shuffle = True,random_state = None)\n",
    "    for train_id, test_id in kf.split(data):\n",
    "        # print(\"TRAIN:\", train_id, \"TEST:\", test_id)\n",
    "        x_train, x_test, y_train, y_test = split(data, train_id, test_id)\n",
    "        lda = LDA(n_components=n)\n",
    "        lda.fit(x_train, y_train)\n",
    "        lda_pred=lda.predict(x_test)\n",
    "        se,sp,acc,auc = eval(lda_pred,y_test)\n",
    "        se_lda.append(se);sp_lda.append(sp);acc_lda.append(acc);auc_lda.append(auc)\n",
    "    return se_lda, sp_lda, acc_lda, auc_lda\n",
    "\n",
    "se_lda, sp_lda, acc_lda, auc_lda = myLDA(data, 1) #一维\n",
    "print('result of SE、SP、ACC & AUC ')\n",
    "view(se_lda);view(sp_lda);view(acc_lda);view(auc_lda)\n"
   ]
  },
  {
   "cell_type": "markdown",
   "metadata": {},
   "source": [
    "`6.LDA降维后svm` "
   ]
  },
  {
   "cell_type": "code",
   "execution_count": 7,
   "metadata": {},
   "outputs": [
    {
     "data": {
      "image/png": "[encoded data removed]",
      "text/plain": [
       "<Figure size 432x288 with 1 Axes>"
      ]
     },
     "metadata": {
      "needs_background": "light"
     },
     "output_type": "display_data"
    },
    {
     "name": "stdout",
     "output_type": "stream",
     "text": [
      "result of SE、SP、ACC & AUC \n",
      "[0.9833 1.     0.9828 0.9649 0.9818]\n",
      "mean : 0.9826\n",
      "[0.7    0.9444 0.6667 0.8462 0.6667]\n",
      "mean : 0.7648\n",
      "[0.9429 0.9857 0.9286 0.9429 0.9143]\n",
      "mean : 0.9429\n",
      "[0.8417 0.9722 0.8247 0.9055 0.8242]\n",
      "mean : 0.8737\n"
     ]
    }
   ],
   "source": [
    "def myLS(data,n):\n",
    "    se_ls = []\n",
    "    sp_ls = []\n",
    "    acc_ls = []\n",
    "    auc_ls = []\n",
    "    kf = KFold(n_splits = 5,shuffle = True,random_state = None)\n",
    "    for train_id, test_id in kf.split(data):\n",
    "        # print(\"TRAIN:\", train_id, \"TEST:\", test_id)\n",
    "        x_train, x_test, y_train, y_test = split(data, train_id, test_id)  \n",
    "\n",
    "        lda = LDA(n_components=n)\n",
    "        lda.fit(x_train, y_train)\n",
    "        x_train_lda = lda.transform(x_train)\n",
    "        x_test_lda = lda.transform(x_test)\n",
    "        svmclf = svm.SVC(kernel='linear', probability=True, random_state=None)\n",
    "        svmclf.fit(x_train_lda, y_train)\n",
    "        svm_pred=svmclf.predict(x_test_lda)\n",
    "\n",
    "        se,sp,acc,auc = eval(svm_pred,y_test)\n",
    "        se_ls.append(se);sp_ls.append(sp);acc_ls.append(acc);auc_ls.append(auc)\n",
    "    return x_train_lda, y_train, se_ls, sp_ls, acc_ls, auc_ls\n",
    "\n",
    "ldaresult, y_train, se_ls, sp_ls, acc_ls, auc_ls = myLS(data, 1)\n",
    "\n",
    "plt.scatter(ldaresult[:, -1], y_train,marker='o', c=y_train)\n",
    "plt.title('LDA_1dim')\n",
    "plt.savefig('./results/LDA_1dim.png')\n",
    "plt.show()\n",
    "\n",
    "print('result of SE、SP、ACC & AUC ')\n",
    "view(se_ls);view(sp_ls);view(acc_ls);view(auc_ls)\n"
   ]
  }
 ],
 "metadata": {
  "interpreter": {
   "hash": "c7f719f333d963901e84c1341a59b52adbec260a901cd43e726cf48e69a71650"
  },
  "kernelspec": {
   "display_name": "Python 3.7.9 ('covid')",
   "language": "python",
   "name": "python3"
  },
  "language_info": {
   "codemirror_mode": {
    "name": "ipython",
    "version": 3
   },
   "file_extension": ".py",
   "mimetype": "text/x-python",
   "name": "python",
   "nbconvert_exporter": "python",
   "pygments_lexer": "ipython3",
   "version": "3.7.11"
  },
  "orig_nbformat": 4
 },
 "nbformat": 4,
 "nbformat_minor": 2
}
