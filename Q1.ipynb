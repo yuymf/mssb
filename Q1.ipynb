{
 "cells": [
  {
   "cell_type": "markdown",
   "metadata": {},
   "source": [
    "**Q1决策树**\n",
    "\n",
    "*实现基于信息增益率率进行划分选择的决策树算法，   \n",
    "对男女生样本数据中的（喜欢颜色，喜欢运动，喜欢文学，鞋码）4个特征进行分类，   \n",
    "计算模型预测性能（包含 SE、SP、ACC），并以友好的方式图示化结果。*"
   ]
  },
  {
   "cell_type": "markdown",
   "metadata": {},
   "source": [
    "`1.导入模块`"
   ]
  },
  {
   "cell_type": "code",
   "execution_count": 1,
   "metadata": {},
   "outputs": [],
   "source": [
    "import numpy as np\n",
    "import pandas as pd\n",
    "import matplotlib.pyplot as plt\n",
    "from sklearn.model_selection import StratifiedShuffleSplit\n",
    "from sklearn import preprocessing\n",
    "from sklearn.preprocessing import OrdinalEncoder\n",
    "from sklearn import tree\n",
    "from sklearn.tree import DecisionTreeClassifier\n",
    "import graphviz\n",
    "from sklearn import metrics\n",
    "import os"
   ]
  },
  {
   "cell_type": "markdown",
   "metadata": {},
   "source": [
    "`2.处理数据`"
   ]
  },
  {
   "cell_type": "code",
   "execution_count": 2,
   "metadata": {},
   "outputs": [],
   "source": [
    "def pre_data(file_path):\n",
    "    file_data = pd.read_excel(file_path)\n",
    "    data_color = file_data[[\"喜欢颜色\"]]\n",
    "    ordinal_encoder = OrdinalEncoder()\n",
    "    color_encoder = ordinal_encoder.fit_transform(data_color)\n",
    "    data_feature = np.hstack((color_encoder, pd.DataFrame(file_data,\\\n",
    "                    columns=['喜欢运动', '喜欢文学', '鞋码']).values))\n",
    "    scaler = preprocessing.StandardScaler().fit(data_feature)\n",
    "    data_feature = scaler.transform(data_feature)\n",
    "    data_label = file_data.性别男1女0.values\n",
    "    return data_feature, data_label\n",
    "\n",
    "data_feature, data_label = pre_data(os.path.join('data', \\\n",
    "                '作业数据_2021合成.xls'))"
   ]
  },
  {
   "cell_type": "markdown",
   "metadata": {},
   "source": [
    "`3.数据分层` "
   ]
  },
  {
   "cell_type": "code",
   "execution_count": 3,
   "metadata": {},
   "outputs": [
    {
     "name": "stdout",
     "output_type": "stream",
     "text": [
      "280 71 280 71\n"
     ]
    }
   ],
   "source": [
    "def split_data(data_feature, data_label):\n",
    "    split = StratifiedShuffleSplit(n_splits=1, test_size=0.2, random_state=42)\n",
    "    for train_index, test_index in split.split(data_feature, data_label):\n",
    "        data_train, data_test = data_feature[train_index], data_feature[test_index]\n",
    "        label_train, label_test = data_label[train_index], data_label[test_index]\n",
    "    print(len(data_train), len(data_test), len(label_train), len(label_test))\n",
    "    return data_train, data_test, label_train, label_test\n",
    "\n",
    "data_train, data_test, label_train, label_test = split_data(data_feature, data_label)"
   ]
  },
  {
   "cell_type": "markdown",
   "metadata": {},
   "source": [
    "`4.训练`"
   ]
  },
  {
   "cell_type": "code",
   "execution_count": 4,
   "metadata": {},
   "outputs": [
    {
     "name": "stdout",
     "output_type": "stream",
     "text": [
      "SP: 0.9167 SE: 0.9492 acc: 0.9437\n"
     ]
    }
   ],
   "source": [
    "def train(data_train, data_test, label_train, label_test):\n",
    "    clf = DecisionTreeClassifier(criterion=\"entropy\", random_state=30, \n",
    "                                 splitter='random',max_depth=7)\n",
    "    clf = clf.fit(data_train, label_train)\n",
    "    acc_train = clf.score(data_train, label_train)\n",
    "    acc = clf.score(data_test, label_test)\n",
    "    pred = clf.predict(data_test)\n",
    "    fpr, tpr, _ = metrics.roc_curve(pred, label_test)\n",
    "    return acc_train, acc, clf, fpr, tpr\n",
    "\n",
    "acc_train, acc, clf, fpr, tpr = train(data_train, \n",
    "                                      data_test, label_train, label_test)\n",
    "print('SP:', np.round(1-fpr,4)[1], 'SE:', np.round(tpr,4)[1], 'acc:', np.round(acc,4))"
   ]
  },
  {
   "cell_type": "markdown",
   "metadata": {},
   "source": [
    "`5.可视化`"
   ]
  },
  {
   "cell_type": "code",
   "execution_count": 5,
   "metadata": {},
   "outputs": [
    {
     "name": "stdout",
     "output_type": "stream",
     "text": [
      "[('color', 0.064), ('sport', 0.016), ('literature', 0.0256), ('shoes', 0.8944)]\n"
     ]
    },
    {
     "data": {
      "image/png": "[encoded data removed]",
      "text/plain": [
       "<Figure size 432x288 with 1 Axes>"
      ]
     },
     "metadata": {
      "needs_background": "light"
     },
     "output_type": "display_data"
    }
   ],
   "source": [
    "def vitualize(clf):\n",
    "    tree.export_graphviz(clf)\n",
    "    dot_data = tree.export_graphviz(clf, out_file=None)\n",
    "    graphviz.Source(dot_data)\n",
    "\n",
    "    feature_name = ['color', 'sport', 'literature', 'shoes']\n",
    "    dot_data = tree.export_graphviz(clf, out_file=None, \n",
    "                                    feature_names=['color', 'sport', 'literature', 'shoes'],\n",
    "                                    class_names=['girl', 'boy'], filled=True, rounded=True,\n",
    "                                    special_characters=True)\n",
    "    graphviz.Source(dot_data)\n",
    "    graph = graphviz.Source(dot_data)\n",
    "    graph.render(\"./results/classify\")\n",
    "    print([*zip(feature_name, np.round(clf.feature_importances_,4))])  #信息增益率\n",
    "\n",
    "    test = []\n",
    "    for i in range(10):\n",
    "        clf = tree.DecisionTreeClassifier(criterion=\"entropy\", \n",
    "                                          random_state=30, \n",
    "                                          splitter='random', \n",
    "                                          max_depth=i + 1)\n",
    "        clf = clf.fit(data_train, label_train)\n",
    "        acc = clf.score(data_test, label_test)\n",
    "        test.append(acc)\n",
    "    plt.plot(range(1, 11), test, color=\"red\", label=\"max_depth\")\n",
    "    plt.xlabel('depth of CART')\n",
    "    plt.ylabel('ACC')\n",
    "    plt.legend()\n",
    "    plt.show()\n",
    "\n",
    "vitualize(clf)"
   ]
  }
 ],
 "metadata": {
  "interpreter": {
   "hash": "c7f719f333d963901e84c1341a59b52adbec260a901cd43e726cf48e69a71650"
  },
  "kernelspec": {
   "display_name": "Python 3.7.9 ('covid')",
   "language": "python",
   "name": "python3"
  },
  "language_info": {
   "codemirror_mode": {
    "name": "ipython",
    "version": 3
   },
   "file_extension": ".py",
   "mimetype": "text/x-python",
   "name": "python",
   "nbconvert_exporter": "python",
   "pygments_lexer": "ipython3",
   "version": "3.7.11"
  },
  "orig_nbformat": 4
 },
 "nbformat": 4,
 "nbformat_minor": 2
}
