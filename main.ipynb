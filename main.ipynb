{
 "cells": [
  {
   "cell_type": "markdown",
   "metadata": {},
   "source": [
    "**模式识别第一次作业**"
   ]
  },
  {
   "cell_type": "markdown",
   "metadata": {},
   "source": [
    "模块导入"
   ]
  },
  {
   "cell_type": "code",
   "execution_count": 1,
   "metadata": {},
   "outputs": [],
   "source": [
    "import numpy as np\n",
    "import pandas as pd\n",
    "import plotly as py\n",
    "from utils import Classify_cmean, plot4d, handle_r, plot4dwitha ,plotla,plotknn\n",
    "import matplotlib.pyplot as plt\n",
    "from scipy.cluster import hierarchy\n",
    "from sklearn.neighbors import KNeighborsClassifier"
   ]
  },
  {
   "cell_type": "markdown",
   "metadata": {},
   "source": [
    "数据准备"
   ]
  },
  {
   "cell_type": "code",
   "execution_count": 2,
   "metadata": {},
   "outputs": [
    {
     "name": "stdout",
     "output_type": "stream",
     "text": [
      "[[2500.     7.5  163.    51. ]\n",
      " [3500.     7.5  171.    64. ]\n",
      " [4900.     7.8  182.    68. ]\n",
      " ...\n",
      " [4300.     7.5  170.    60. ]\n",
      " [4300.     6.9  168.    55. ]\n",
      " [3500.     7.2  168.    50. ]]\n"
     ]
    }
   ],
   "source": [
    "filename = \"作业数据_2021合成.xls\"\n",
    "data = pd.read_excel(filename)\n",
    "# 填充缺省值\n",
    "vital_male = data[\"肺活量\"][data.性别男1女0 == 1]\n",
    "data[\"肺活量\"].fillna(vital_male.median(), inplace=True)\n",
    "run_male = data[\"50米成绩\"][data.性别男1女0 == 1]\n",
    "data[\"50米成绩\"].fillna(run_male.median(), inplace=True)\n",
    "#准备数据\n",
    "datas= [data[\"性别男1女0\"],data[\"肺活量\"],data[\"50米成绩\"],data[\"身高\"],data[\"体重\"]]\n",
    "datas=np.array(datas)\n",
    "datas=np.transpose(datas)\n",
    "datapred= np.delete(datas,0,axis=1)\n",
    "datasex= np.delete(datas,[1,2,3,4],axis=1)\n",
    "\n",
    "print(datapred)"
   ]
  },
  {
   "cell_type": "markdown",
   "metadata": {},
   "source": [
    "**Q1.c-mean:身高、体重、50m 成绩、肺活量4个特征进行聚类分析**"
   ]
  },
  {
   "cell_type": "code",
   "execution_count": null,
   "metadata": {},
   "outputs": [],
   "source": [
    "class_num=2\n",
    "centers = []  \n",
    "for i in range(class_num):\n",
    "    centers.append(datapred[i])\n",
    "    \n",
    "result = Classify_cmean.classify(centers, datapred)\n",
    "res=handle_r(result[0],result[1])\n",
    "\n",
    "plot4d(res.transpose(),\"epoch1.html\")"
   ]
  },
  {
   "cell_type": "code",
   "execution_count": null,
   "metadata": {},
   "outputs": [],
   "source": [
    "end_flag = 1\n",
    "center_class1=[centers[0]]\n",
    "center_class2=[centers[1]]\n",
    "# 循环计算中心\n",
    "while end_flag:\n",
    "    new_centers = [] \n",
    "\n",
    "    for i in range(result.__len__()):\n",
    "        new_centers.append(Classify_cmean.get_new_center(result[i]))\n",
    "    center_class1.append(new_centers[0])\n",
    "    center_class2.append(new_centers[1])\n",
    "\n",
    "    if np.array_equal(new_centers, centers):\n",
    "        print(new_centers)\n",
    "        end_flag = 0\n",
    "    else:\n",
    "        centers = new_centers.copy()\n",
    "\n",
    "    result = Classify_cmean.classify(centers, datapred)\n",
    "\n",
    "centerss=handle_r(center_class1,center_class2)\n",
    "\n",
    "# plot4dwitha(centerss.transpose(),\"centertrace\")\n",
    "res=handle_r(result[0],result[1])\n",
    "# print(res.transpose)\n",
    "plot4d(res.transpose(),\"Cmeanout.html\")"
   ]
  },
  {
   "cell_type": "markdown",
   "metadata": {},
   "source": [
    "**Q2.分级聚类算法:身高、体重、50m 成绩、肺活量4个特征进行聚类分析**"
   ]
  },
  {
   "cell_type": "code",
   "execution_count": null,
   "metadata": {},
   "outputs": [],
   "source": [
    "hierarchical_n_clusters = 2  # 构造聚类器,聚类数为2\n",
    "\n",
    "Z = hierarchy.linkage(datapred, method='ward', metric='euclidean')  \n",
    "hierarchy.dendrogram(Z)\n",
    "plt.savefig('plot_dendrogram.png')  # 将层级聚类结果以树状图表示出来并保存为plot_dendrogram.png\n",
    "label = hierarchy.cut_tree(Z, height=10000)  # 在不同的位置裁剪即可得到不同的聚类数目，height要根据树状图的高度与分类的数目进行调整\n",
    "label = label.reshape(label.size, )\n",
    "plotla(datapred.transpose(), label, \"分级聚类out.html\")\n"
   ]
  },
  {
   "cell_type": "markdown",
   "metadata": {},
   "source": [
    "**Q3.KNN算法（K=3，5，7）,对（身高=165，体重=120，50m 成绩=7.5s，肺活量=3000）的性别预测**"
   ]
  },
  {
   "cell_type": "code",
   "execution_count": 7,
   "metadata": {},
   "outputs": [
    {
     "name": "stderr",
     "output_type": "stream",
     "text": [
      "D:\\software\\Miniconda3\\envs\\dl\\lib\\site-packages\\sklearn\\neighbors\\_classification.py:198: DataConversionWarning:\n",
      "\n",
      "A column-vector y was passed when a 1d array was expected. Please change the shape of y to (n_samples,), for example using ravel().\n",
      "\n"
     ]
    },
    {
     "name": "stdout",
     "output_type": "stream",
     "text": [
      "[1.]\n"
     ]
    },
    {
     "ename": "FileNotFoundError",
     "evalue": "[Errno 2] No such file or directory: 'result\\\\knnout.html'",
     "output_type": "error",
     "traceback": [
      "\u001b[1;31m---------------------------------------------------------------------------\u001b[0m",
      "\u001b[1;31mFileNotFoundError\u001b[0m                         Traceback (most recent call last)",
      "\u001b[1;32m~\\AppData\\Local\\Temp\\ipykernel_11196\\3529824299.py\u001b[0m in \u001b[0;36m<module>\u001b[1;34m\u001b[0m\n\u001b[0;32m     11\u001b[0m \u001b[0mprint\u001b[0m\u001b[1;33m(\u001b[0m\u001b[0mpredict_y\u001b[0m\u001b[1;33m)\u001b[0m\u001b[1;33m\u001b[0m\u001b[1;33m\u001b[0m\u001b[0m\n\u001b[0;32m     12\u001b[0m \u001b[0mplotla\u001b[0m\u001b[1;33m(\u001b[0m\u001b[0mdatapred\u001b[0m\u001b[1;33m.\u001b[0m\u001b[0mtranspose\u001b[0m\u001b[1;33m(\u001b[0m\u001b[1;33m)\u001b[0m\u001b[1;33m,\u001b[0m \u001b[0mdatasex\u001b[0m\u001b[1;33m,\u001b[0m \u001b[1;34m\"testout.html\"\u001b[0m\u001b[1;33m)\u001b[0m\u001b[1;33m\u001b[0m\u001b[1;33m\u001b[0m\u001b[0m\n\u001b[1;32m---> 13\u001b[1;33m \u001b[0mplotknn\u001b[0m\u001b[1;33m(\u001b[0m\u001b[0mdatapred\u001b[0m\u001b[1;33m.\u001b[0m\u001b[0mtranspose\u001b[0m\u001b[1;33m(\u001b[0m\u001b[1;33m)\u001b[0m\u001b[1;33m,\u001b[0m \u001b[0mdatasex\u001b[0m\u001b[1;33m,\u001b[0m \u001b[0mpredict_x\u001b[0m\u001b[1;33m,\u001b[0m \u001b[1;34m\"result/knnout.html\"\u001b[0m\u001b[1;33m)\u001b[0m\u001b[1;33m\u001b[0m\u001b[1;33m\u001b[0m\u001b[0m\n\u001b[0m",
      "\u001b[1;32mc:\\Users\\13529\\Desktop\\undo\\mssb\\utils.py\u001b[0m in \u001b[0;36mplotknn\u001b[1;34m(features, lable, prepoint, file_name)\u001b[0m\n\u001b[0;32m     74\u001b[0m                          \"layout\": mylayout},\n\u001b[0;32m     75\u001b[0m                          \u001b[0mauto_open\u001b[0m\u001b[1;33m=\u001b[0m\u001b[1;32mTrue\u001b[0m\u001b[1;33m,\u001b[0m\u001b[1;33m\u001b[0m\u001b[1;33m\u001b[0m\u001b[0m\n\u001b[1;32m---> 76\u001b[1;33m                          filename=file_name)\n\u001b[0m\u001b[0;32m     77\u001b[0m \u001b[1;33m\u001b[0m\u001b[0m\n\u001b[0;32m     78\u001b[0m \u001b[1;32mdef\u001b[0m \u001b[0mplot4d\u001b[0m\u001b[1;33m(\u001b[0m\u001b[0mdata\u001b[0m\u001b[1;33m,\u001b[0m\u001b[0mfile_name\u001b[0m\u001b[1;33m)\u001b[0m\u001b[1;33m:\u001b[0m       \u001b[1;31m# data第一个数据为颜色\u001b[0m\u001b[1;33m\u001b[0m\u001b[1;33m\u001b[0m\u001b[0m\n",
      "\u001b[1;32mD:\\software\\Miniconda3\\envs\\dl\\lib\\site-packages\\plotly\\offline\\offline.py\u001b[0m in \u001b[0;36mplot\u001b[1;34m(figure_or_data, show_link, link_text, validate, output_type, include_plotlyjs, filename, auto_open, image, image_filename, image_width, image_height, config, include_mathjax, auto_play, animation_opts)\u001b[0m\n\u001b[0;32m    595\u001b[0m             \u001b[0mvalidate\u001b[0m\u001b[1;33m=\u001b[0m\u001b[0mvalidate\u001b[0m\u001b[1;33m,\u001b[0m\u001b[1;33m\u001b[0m\u001b[1;33m\u001b[0m\u001b[0m\n\u001b[0;32m    596\u001b[0m             \u001b[0manimation_opts\u001b[0m\u001b[1;33m=\u001b[0m\u001b[0manimation_opts\u001b[0m\u001b[1;33m,\u001b[0m\u001b[1;33m\u001b[0m\u001b[1;33m\u001b[0m\u001b[0m\n\u001b[1;32m--> 597\u001b[1;33m             \u001b[0mauto_open\u001b[0m\u001b[1;33m=\u001b[0m\u001b[0mauto_open\u001b[0m\u001b[1;33m,\u001b[0m\u001b[1;33m\u001b[0m\u001b[1;33m\u001b[0m\u001b[0m\n\u001b[0m\u001b[0;32m    598\u001b[0m         )\n\u001b[0;32m    599\u001b[0m         \u001b[1;32mreturn\u001b[0m \u001b[0mfilename\u001b[0m\u001b[1;33m\u001b[0m\u001b[1;33m\u001b[0m\u001b[0m\n",
      "\u001b[1;32mD:\\software\\Miniconda3\\envs\\dl\\lib\\site-packages\\plotly\\io\\_html.py\u001b[0m in \u001b[0;36mwrite_html\u001b[1;34m(fig, file, config, auto_play, include_plotlyjs, include_mathjax, post_script, full_html, animation_opts, validate, default_width, default_height, auto_open, div_id)\u001b[0m\n\u001b[0;32m    540\u001b[0m     \u001b[1;31m# Write HTML string\u001b[0m\u001b[1;33m\u001b[0m\u001b[1;33m\u001b[0m\u001b[1;33m\u001b[0m\u001b[0m\n\u001b[0;32m    541\u001b[0m     \u001b[1;32mif\u001b[0m \u001b[0mpath\u001b[0m \u001b[1;32mis\u001b[0m \u001b[1;32mnot\u001b[0m \u001b[1;32mNone\u001b[0m\u001b[1;33m:\u001b[0m\u001b[1;33m\u001b[0m\u001b[1;33m\u001b[0m\u001b[0m\n\u001b[1;32m--> 542\u001b[1;33m         \u001b[0mpath\u001b[0m\u001b[1;33m.\u001b[0m\u001b[0mwrite_text\u001b[0m\u001b[1;33m(\u001b[0m\u001b[0mhtml_str\u001b[0m\u001b[1;33m)\u001b[0m\u001b[1;33m\u001b[0m\u001b[1;33m\u001b[0m\u001b[0m\n\u001b[0m\u001b[0;32m    543\u001b[0m     \u001b[1;32melse\u001b[0m\u001b[1;33m:\u001b[0m\u001b[1;33m\u001b[0m\u001b[1;33m\u001b[0m\u001b[0m\n\u001b[0;32m    544\u001b[0m         \u001b[0mfile\u001b[0m\u001b[1;33m.\u001b[0m\u001b[0mwrite\u001b[0m\u001b[1;33m(\u001b[0m\u001b[0mhtml_str\u001b[0m\u001b[1;33m)\u001b[0m\u001b[1;33m\u001b[0m\u001b[1;33m\u001b[0m\u001b[0m\n",
      "\u001b[1;32mD:\\software\\Miniconda3\\envs\\dl\\lib\\pathlib.py\u001b[0m in \u001b[0;36mwrite_text\u001b[1;34m(self, data, encoding, errors)\u001b[0m\n\u001b[0;32m   1238\u001b[0m             raise TypeError('data must be str, not %s' %\n\u001b[0;32m   1239\u001b[0m                             data.__class__.__name__)\n\u001b[1;32m-> 1240\u001b[1;33m         \u001b[1;32mwith\u001b[0m \u001b[0mself\u001b[0m\u001b[1;33m.\u001b[0m\u001b[0mopen\u001b[0m\u001b[1;33m(\u001b[0m\u001b[0mmode\u001b[0m\u001b[1;33m=\u001b[0m\u001b[1;34m'w'\u001b[0m\u001b[1;33m,\u001b[0m \u001b[0mencoding\u001b[0m\u001b[1;33m=\u001b[0m\u001b[0mencoding\u001b[0m\u001b[1;33m,\u001b[0m \u001b[0merrors\u001b[0m\u001b[1;33m=\u001b[0m\u001b[0merrors\u001b[0m\u001b[1;33m)\u001b[0m \u001b[1;32mas\u001b[0m \u001b[0mf\u001b[0m\u001b[1;33m:\u001b[0m\u001b[1;33m\u001b[0m\u001b[1;33m\u001b[0m\u001b[0m\n\u001b[0m\u001b[0;32m   1241\u001b[0m             \u001b[1;32mreturn\u001b[0m \u001b[0mf\u001b[0m\u001b[1;33m.\u001b[0m\u001b[0mwrite\u001b[0m\u001b[1;33m(\u001b[0m\u001b[0mdata\u001b[0m\u001b[1;33m)\u001b[0m\u001b[1;33m\u001b[0m\u001b[1;33m\u001b[0m\u001b[0m\n\u001b[0;32m   1242\u001b[0m \u001b[1;33m\u001b[0m\u001b[0m\n",
      "\u001b[1;32mD:\\software\\Miniconda3\\envs\\dl\\lib\\pathlib.py\u001b[0m in \u001b[0;36mopen\u001b[1;34m(self, mode, buffering, encoding, errors, newline)\u001b[0m\n\u001b[0;32m   1206\u001b[0m             \u001b[0mself\u001b[0m\u001b[1;33m.\u001b[0m\u001b[0m_raise_closed\u001b[0m\u001b[1;33m(\u001b[0m\u001b[1;33m)\u001b[0m\u001b[1;33m\u001b[0m\u001b[1;33m\u001b[0m\u001b[0m\n\u001b[0;32m   1207\u001b[0m         return io.open(self, mode, buffering, encoding, errors, newline,\n\u001b[1;32m-> 1208\u001b[1;33m                        opener=self._opener)\n\u001b[0m\u001b[0;32m   1209\u001b[0m \u001b[1;33m\u001b[0m\u001b[0m\n\u001b[0;32m   1210\u001b[0m     \u001b[1;32mdef\u001b[0m \u001b[0mread_bytes\u001b[0m\u001b[1;33m(\u001b[0m\u001b[0mself\u001b[0m\u001b[1;33m)\u001b[0m\u001b[1;33m:\u001b[0m\u001b[1;33m\u001b[0m\u001b[1;33m\u001b[0m\u001b[0m\n",
      "\u001b[1;32mD:\\software\\Miniconda3\\envs\\dl\\lib\\pathlib.py\u001b[0m in \u001b[0;36m_opener\u001b[1;34m(self, name, flags, mode)\u001b[0m\n\u001b[0;32m   1061\u001b[0m     \u001b[1;32mdef\u001b[0m \u001b[0m_opener\u001b[0m\u001b[1;33m(\u001b[0m\u001b[0mself\u001b[0m\u001b[1;33m,\u001b[0m \u001b[0mname\u001b[0m\u001b[1;33m,\u001b[0m \u001b[0mflags\u001b[0m\u001b[1;33m,\u001b[0m \u001b[0mmode\u001b[0m\u001b[1;33m=\u001b[0m\u001b[1;36m0o666\u001b[0m\u001b[1;33m)\u001b[0m\u001b[1;33m:\u001b[0m\u001b[1;33m\u001b[0m\u001b[1;33m\u001b[0m\u001b[0m\n\u001b[0;32m   1062\u001b[0m         \u001b[1;31m# A stub for the opener argument to built-in open()\u001b[0m\u001b[1;33m\u001b[0m\u001b[1;33m\u001b[0m\u001b[1;33m\u001b[0m\u001b[0m\n\u001b[1;32m-> 1063\u001b[1;33m         \u001b[1;32mreturn\u001b[0m \u001b[0mself\u001b[0m\u001b[1;33m.\u001b[0m\u001b[0m_accessor\u001b[0m\u001b[1;33m.\u001b[0m\u001b[0mopen\u001b[0m\u001b[1;33m(\u001b[0m\u001b[0mself\u001b[0m\u001b[1;33m,\u001b[0m \u001b[0mflags\u001b[0m\u001b[1;33m,\u001b[0m \u001b[0mmode\u001b[0m\u001b[1;33m)\u001b[0m\u001b[1;33m\u001b[0m\u001b[1;33m\u001b[0m\u001b[0m\n\u001b[0m\u001b[0;32m   1064\u001b[0m \u001b[1;33m\u001b[0m\u001b[0m\n\u001b[0;32m   1065\u001b[0m     \u001b[1;32mdef\u001b[0m \u001b[0m_raw_open\u001b[0m\u001b[1;33m(\u001b[0m\u001b[0mself\u001b[0m\u001b[1;33m,\u001b[0m \u001b[0mflags\u001b[0m\u001b[1;33m,\u001b[0m \u001b[0mmode\u001b[0m\u001b[1;33m=\u001b[0m\u001b[1;36m0o777\u001b[0m\u001b[1;33m)\u001b[0m\u001b[1;33m:\u001b[0m\u001b[1;33m\u001b[0m\u001b[1;33m\u001b[0m\u001b[0m\n",
      "\u001b[1;31mFileNotFoundError\u001b[0m: [Errno 2] No such file or directory: 'result\\\\knnout.html'"
     ]
    }
   ],
   "source": [
    "predict_x = np.array([[3000,7.5,165,120]])\n",
    "\n",
    "def knn(practice_x,practice_y,predict_x,k):\n",
    "    #测试精度参数为n_neighbors\n",
    "    neigh=KNeighborsClassifier(n_neighbors=k)  \n",
    "    neigh.fit(practice_x, practice_y)\n",
    "    predict_y=neigh.predict(predict_x)\n",
    "    return predict_y\n",
    "\n",
    "predict_y = knn(datapred, datasex, predict_x, 3)\n",
    "print(predict_y)\n",
    "plotla(datapred.transpose(), datasex, \"testout.html\")\n",
    "plotknn(datapred.transpose(), datasex, predict_x, \"knnout.html\")\n"
   ]
  }
 ],
 "metadata": {
  "interpreter": {
   "hash": "dcd61b1b3bd5c463b7cd3470a8b3d663ffe5b70cb4f7499b299277c3842479cc"
  },
  "kernelspec": {
   "display_name": "Python 3.7.11 ('dl')",
   "language": "python",
   "name": "python3"
  },
  "language_info": {
   "codemirror_mode": {
    "name": "ipython",
    "version": 3
   },
   "file_extension": ".py",
   "mimetype": "text/x-python",
   "name": "python",
   "nbconvert_exporter": "python",
   "pygments_lexer": "ipython3",
   "version": "3.7.11"
  },
  "orig_nbformat": 4
 },
 "nbformat": 4,
 "nbformat_minor": 2
}
